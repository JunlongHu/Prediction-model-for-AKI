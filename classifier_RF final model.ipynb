{
 "cells": [
  {
   "cell_type": "code",
   "execution_count": null,
   "metadata": {
    "collapsed": true
   },
   "outputs": [],
   "source": [
    "import numpy as np\n",
    "import matplotlib.pyplot as plt\n",
    "import pandas as pd\n",
    "import scipy.io"
   ]
  },
  {
   "cell_type": "code",
   "execution_count": null,
   "metadata": {},
   "outputs": [],
   "source": [
    "Data_star=pd.read_excel(\"./RF 8-feature.xlsx\")\n",
    "all_data = np.array(Data_star)\n",
    "X = all_data[:,1:] \n",
    "Y = all_data[:,0:1] \n",
    "print(X.shape)"
   ]
  },
  {
   "cell_type": "code",
   "execution_count": null,
   "metadata": {
    "collapsed": true
   },
   "outputs": [],
   "source": [
    "from sklearn.model_selection import train_test_split\n",
    "X_train, X_test, y_train, y_test = train_test_split(X, Y, test_size = 0.3, random_state = 0)"
   ]
  },
  {
   "cell_type": "code",
   "execution_count": null,
   "metadata": {},
   "outputs": [],
   "source": [
    "from sklearn.ensemble import RandomForestClassifier\n",
    "classifier = RandomForestClassifier(n_estimators = 110, criterion = 'entropy',\n",
    "                                    max_depth=14, min_samples_split=10, min_samples_leaf=4,\n",
    "                                    min_weight_fraction_leaf=0.0,max_features=\"auto\",max_leaf_nodes=None,\n",
    "                                    min_impurity_decrease=0.0,min_impurity_split=None,\n",
    "                                    bootstrap=True,oob_score=False, n_jobs=None,\n",
    "                                    warm_start=False, class_weight=None,ccp_alpha=0.0, max_samples=None,\n",
    "                                    verbose=0,random_state = 0)\n",
    "classifier.fit(X_train, y_train)"
   ]
  },
  {
   "cell_type": "code",
   "execution_count": null,
   "metadata": {
    "collapsed": true
   },
   "outputs": [],
   "source": [
    "y_pred = classifier.predict_proba(X_test)[:,1] \n",
    "y_pred_train = classifier.predict_proba(X_train)[:,1]"
   ]
  },
  {
   "cell_type": "code",
   "execution_count": null,
   "metadata": {},
   "outputs": [],
   "source": [
    "from sklearn.metrics import roc_auc_score\n",
    "auc_score_test = roc_auc_score(y_test,y_pred)\n",
    "print(auc_score_test)\n",
    "\n",
    "auc_score_train = roc_auc_score(y_train,y_pred_train)\n",
    "print(auc_score_train)\n"
   ]
  },
  {
   "cell_type": "code",
   "execution_count": null,
   "metadata": {},
   "outputs": [],
   "source": [
    "import joblib\n",
    "joblib.dump(classifier, \"classifier_RF.m\")"
   ]
  }
 ],
 "metadata": {
  "kernelspec": {
   "display_name": "pythonproject2",
   "language": "python",
   "name": "pythonproject2"
  },
  "language_info": {
   "codemirror_mode": {
    "name": "ipython",
    "version": 3
   },
   "file_extension": ".py",
   "mimetype": "text/x-python",
   "name": "python",
   "nbconvert_exporter": "python",
   "pygments_lexer": "ipython3",
   "version": "3.6.13"
  }
 },
 "nbformat": 4,
 "nbformat_minor": 2
}
