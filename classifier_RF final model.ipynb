{
 "cells": [
  {
   "cell_type": "code",
   "execution_count": null,
   "metadata": {
    "collapsed": true
   },
   "outputs": [],
   "source": [
    "from sklearn.ensemble import RandomForestClassifier\n",
    "classifier = RandomForestClassifier(n_estimators = 110, criterion = 'entropy',\n",
    "                                    max_depth=14, min_samples_split=10, min_samples_leaf=4,\n",
    "                                    min_weight_fraction_leaf=0.0,max_features=\"auto\",max_leaf_nodes=None,\n",
    "                                    min_impurity_decrease=0.0,min_impurity_split=None,\n",
    "                                    bootstrap=True,oob_score=False, n_jobs=None,\n",
    "                                    warm_start=False, class_weight=None,ccp_alpha=0.0, max_samples=None,\n",
    "                                    verbose=0,random_state = 0)\n",
    "classifier.fit(X_train, y_train)"
   ]
  }
 ],
 "metadata": {
  "kernelspec": {
   "display_name": "pythonproject2",
   "language": "python",
   "name": "pythonproject2"
  },
  "language_info": {
   "codemirror_mode": {
    "name": "ipython",
    "version": 3
   },
   "file_extension": ".py",
   "mimetype": "text/x-python",
   "name": "python",
   "nbconvert_exporter": "python",
   "pygments_lexer": "ipython3",
   "version": "3.6.13"
  }
 },
 "nbformat": 4,
 "nbformat_minor": 2
}
